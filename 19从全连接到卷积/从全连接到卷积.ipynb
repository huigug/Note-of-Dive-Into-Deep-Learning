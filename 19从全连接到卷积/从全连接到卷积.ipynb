{
 "cells": [
  {
   "cell_type": "code",
   "execution_count": null,
   "id": "6e29dd39",
   "metadata": {},
   "outputs": [],
   "source": [
    "#对全连接层使用平移不变性和局部性得到卷积层\n",
    "import torch\n",
    "from torch import nn"
   ]
  },
  {
   "cell_type": "code",
   "execution_count": 2,
   "id": "3f024fdd",
   "metadata": {},
   "outputs": [
    {
     "name": "stdout",
     "output_type": "stream",
     "text": [
      "Collecting d2l\n",
      "  Downloading d2l-0.17.0-py3-none-any.whl (83 kB)\n",
      "Collecting matplotlib\n",
      "  Downloading matplotlib-3.4.3-cp39-cp39-win_amd64.whl (7.1 MB)\n",
      "Collecting pandas\n",
      "  Downloading pandas-1.3.4-cp39-cp39-win_amd64.whl (10.2 MB)\n",
      "Collecting jupyter\n",
      "  Downloading jupyter-1.0.0-py2.py3-none-any.whl (2.7 kB)\n",
      "Collecting requests\n",
      "  Downloading requests-2.26.0-py2.py3-none-any.whl (62 kB)\n",
      "Requirement already satisfied: numpy in d:\\anaconda\\envs\\torch\\lib\\site-packages (from d2l) (1.21.2)\n",
      "Collecting notebook\n",
      "  Downloading notebook-6.4.5-py3-none-any.whl (9.9 MB)\n",
      "Requirement already satisfied: ipykernel in d:\\anaconda\\envs\\torch\\lib\\site-packages (from jupyter->d2l) (6.4.1)\n",
      "Collecting jupyter-console\n",
      "  Downloading jupyter_console-6.4.0-py3-none-any.whl (22 kB)\n",
      "Collecting ipywidgets\n",
      "  Downloading ipywidgets-7.6.5-py2.py3-none-any.whl (121 kB)\n",
      "Collecting qtconsole\n",
      "  Downloading qtconsole-5.1.1-py3-none-any.whl (119 kB)\n",
      "Collecting nbconvert\n",
      "  Downloading nbconvert-6.2.0-py3-none-any.whl (553 kB)\n",
      "Requirement already satisfied: ipython<8.0,>=7.23.1 in d:\\anaconda\\envs\\torch\\lib\\site-packages (from ipykernel->jupyter->d2l) (7.29.0)\n",
      "Requirement already satisfied: jupyter-client<8.0 in d:\\anaconda\\envs\\torch\\lib\\site-packages (from ipykernel->jupyter->d2l) (7.0.1)\n",
      "Requirement already satisfied: ipython-genutils in d:\\anaconda\\envs\\torch\\lib\\site-packages (from ipykernel->jupyter->d2l) (0.2.0)\n",
      "Requirement already satisfied: tornado<7.0,>=4.2 in d:\\anaconda\\envs\\torch\\lib\\site-packages (from ipykernel->jupyter->d2l) (6.1)\n",
      "Requirement already satisfied: traitlets<6.0,>=4.1.0 in d:\\anaconda\\envs\\torch\\lib\\site-packages (from ipykernel->jupyter->d2l) (5.1.0)\n",
      "Requirement already satisfied: matplotlib-inline<0.2.0,>=0.1.0 in d:\\anaconda\\envs\\torch\\lib\\site-packages (from ipykernel->jupyter->d2l) (0.1.2)\n",
      "Requirement already satisfied: debugpy<2.0,>=1.0.0 in d:\\anaconda\\envs\\torch\\lib\\site-packages (from ipykernel->jupyter->d2l) (1.4.1)\n",
      "Requirement already satisfied: pygments in d:\\anaconda\\envs\\torch\\lib\\site-packages (from ipython<8.0,>=7.23.1->ipykernel->jupyter->d2l) (2.10.0)\n",
      "Requirement already satisfied: setuptools>=18.5 in d:\\anaconda\\envs\\torch\\lib\\site-packages (from ipython<8.0,>=7.23.1->ipykernel->jupyter->d2l) (58.0.4)\n",
      "Requirement already satisfied: prompt-toolkit!=3.0.0,!=3.0.1,<3.1.0,>=2.0.0 in d:\\anaconda\\envs\\torch\\lib\\site-packages (from ipython<8.0,>=7.23.1->ipykernel->jupyter->d2l) (3.0.20)\n",
      "Requirement already satisfied: jedi>=0.16 in d:\\anaconda\\envs\\torch\\lib\\site-packages (from ipython<8.0,>=7.23.1->ipykernel->jupyter->d2l) (0.18.0)\n",
      "Requirement already satisfied: colorama in d:\\anaconda\\envs\\torch\\lib\\site-packages (from ipython<8.0,>=7.23.1->ipykernel->jupyter->d2l) (0.4.4)\n",
      "Requirement already satisfied: backcall in d:\\anaconda\\envs\\torch\\lib\\site-packages (from ipython<8.0,>=7.23.1->ipykernel->jupyter->d2l) (0.2.0)\n",
      "Requirement already satisfied: decorator in d:\\anaconda\\envs\\torch\\lib\\site-packages (from ipython<8.0,>=7.23.1->ipykernel->jupyter->d2l) (5.1.0)\n",
      "Requirement already satisfied: pickleshare in d:\\anaconda\\envs\\torch\\lib\\site-packages (from ipython<8.0,>=7.23.1->ipykernel->jupyter->d2l) (0.7.5)\n",
      "Requirement already satisfied: parso<0.9.0,>=0.8.0 in d:\\anaconda\\envs\\torch\\lib\\site-packages (from jedi>=0.16->ipython<8.0,>=7.23.1->ipykernel->jupyter->d2l) (0.8.2)\n",
      "Requirement already satisfied: pyzmq>=13 in d:\\anaconda\\envs\\torch\\lib\\site-packages (from jupyter-client<8.0->ipykernel->jupyter->d2l) (22.2.1)\n",
      "Requirement already satisfied: python-dateutil>=2.1 in d:\\anaconda\\envs\\torch\\lib\\site-packages (from jupyter-client<8.0->ipykernel->jupyter->d2l) (2.8.2)\n",
      "Requirement already satisfied: entrypoints in d:\\anaconda\\envs\\torch\\lib\\site-packages (from jupyter-client<8.0->ipykernel->jupyter->d2l) (0.3)\n",
      "Requirement already satisfied: nest-asyncio>=1.5 in d:\\anaconda\\envs\\torch\\lib\\site-packages (from jupyter-client<8.0->ipykernel->jupyter->d2l) (1.5.1)\n",
      "Requirement already satisfied: jupyter-core>=4.6.0 in d:\\anaconda\\envs\\torch\\lib\\site-packages (from jupyter-client<8.0->ipykernel->jupyter->d2l) (4.8.1)\n",
      "Requirement already satisfied: pywin32>=1.0 in d:\\anaconda\\envs\\torch\\lib\\site-packages (from jupyter-core>=4.6.0->jupyter-client<8.0->ipykernel->jupyter->d2l) (228)\n",
      "Requirement already satisfied: wcwidth in d:\\anaconda\\envs\\torch\\lib\\site-packages (from prompt-toolkit!=3.0.0,!=3.0.1,<3.1.0,>=2.0.0->ipython<8.0,>=7.23.1->ipykernel->jupyter->d2l) (0.2.5)\n",
      "Requirement already satisfied: six>=1.5 in d:\\anaconda\\envs\\torch\\lib\\site-packages (from python-dateutil>=2.1->jupyter-client<8.0->ipykernel->jupyter->d2l) (1.16.0)\n",
      "Collecting widgetsnbextension~=3.5.0\n",
      "  Downloading widgetsnbextension-3.5.2-py2.py3-none-any.whl (1.6 MB)\n",
      "Collecting jupyterlab-widgets>=1.0.0\n",
      "  Downloading jupyterlab_widgets-1.0.2-py3-none-any.whl (243 kB)\n",
      "Collecting nbformat>=4.2.0\n",
      "  Downloading nbformat-5.1.3-py3-none-any.whl (178 kB)\n",
      "Collecting jsonschema!=2.5.0,>=2.4\n",
      "  Downloading jsonschema-4.2.1-py3-none-any.whl (69 kB)\n",
      "Collecting attrs>=17.4.0\n",
      "  Downloading attrs-21.2.0-py2.py3-none-any.whl (53 kB)\n",
      "Collecting pyrsistent!=0.17.0,!=0.17.1,!=0.17.2,>=0.14.0\n",
      "  Downloading pyrsistent-0.18.0-cp39-cp39-win_amd64.whl (62 kB)\n",
      "Collecting terminado>=0.8.3\n",
      "  Downloading terminado-0.12.1-py3-none-any.whl (15 kB)\n",
      "Collecting prometheus-client\n",
      "  Downloading prometheus_client-0.12.0-py2.py3-none-any.whl (57 kB)\n",
      "Collecting jinja2\n",
      "  Downloading Jinja2-3.0.2-py3-none-any.whl (133 kB)\n",
      "Collecting argon2-cffi\n",
      "  Downloading argon2_cffi-21.1.0-cp35-abi3-win_amd64.whl (40 kB)\n",
      "Collecting Send2Trash>=1.5.0\n",
      "  Downloading Send2Trash-1.8.0-py3-none-any.whl (18 kB)\n",
      "Collecting pywinpty>=1.1.0\n",
      "  Downloading pywinpty-1.1.5-cp39-none-win_amd64.whl (1.4 MB)\n",
      "Collecting cffi>=1.0.0\n",
      "  Downloading cffi-1.15.0-cp39-cp39-win_amd64.whl (180 kB)\n",
      "Collecting pycparser\n",
      "  Downloading pycparser-2.21-py2.py3-none-any.whl (118 kB)\n",
      "Collecting MarkupSafe>=2.0\n",
      "  Downloading MarkupSafe-2.0.1-cp39-cp39-win_amd64.whl (14 kB)\n",
      "Collecting pyparsing>=2.2.1\n",
      "  Downloading pyparsing-3.0.5-py3-none-any.whl (97 kB)\n",
      "Requirement already satisfied: pillow>=6.2.0 in d:\\anaconda\\envs\\torch\\lib\\site-packages (from matplotlib->d2l) (8.4.0)\n",
      "Collecting cycler>=0.10\n",
      "  Downloading cycler-0.11.0-py3-none-any.whl (6.4 kB)\n",
      "Collecting kiwisolver>=1.0.1\n",
      "  Downloading kiwisolver-1.3.2-cp39-cp39-win_amd64.whl (52 kB)\n",
      "Collecting pandocfilters>=1.4.1\n",
      "  Downloading pandocfilters-1.5.0-py2.py3-none-any.whl (8.7 kB)\n",
      "Collecting mistune<2,>=0.8.1\n",
      "  Downloading mistune-0.8.4-py2.py3-none-any.whl (16 kB)\n",
      "Collecting bleach\n",
      "  Downloading bleach-4.1.0-py2.py3-none-any.whl (157 kB)\n",
      "Collecting nbclient<0.6.0,>=0.5.0\n",
      "  Downloading nbclient-0.5.4-py3-none-any.whl (66 kB)\n",
      "Collecting jupyterlab-pygments\n",
      "  Downloading jupyterlab_pygments-0.1.2-py2.py3-none-any.whl (4.6 kB)\n",
      "Collecting testpath\n",
      "  Downloading testpath-0.5.0-py3-none-any.whl (84 kB)\n",
      "Collecting defusedxml\n",
      "  Downloading defusedxml-0.7.1-py2.py3-none-any.whl (25 kB)\n",
      "Collecting packaging\n",
      "  Downloading packaging-21.2-py3-none-any.whl (40 kB)\n",
      "Collecting webencodings\n",
      "  Downloading webencodings-0.5.1-py2.py3-none-any.whl (11 kB)\n",
      "Collecting pyparsing>=2.2.1\n",
      "  Downloading pyparsing-2.4.7-py2.py3-none-any.whl (67 kB)\n",
      "Collecting pytz>=2017.3\n",
      "  Downloading pytz-2021.3-py2.py3-none-any.whl (503 kB)\n",
      "Collecting qtpy\n",
      "  Downloading QtPy-1.11.2-py2.py3-none-any.whl (58 kB)\n",
      "Collecting urllib3<1.27,>=1.21.1\n",
      "  Downloading urllib3-1.26.7-py2.py3-none-any.whl (138 kB)\n",
      "Collecting charset-normalizer~=2.0.0\n",
      "  Downloading charset_normalizer-2.0.7-py3-none-any.whl (38 kB)\n",
      "Requirement already satisfied: certifi>=2017.4.17 in d:\\anaconda\\envs\\torch\\lib\\site-packages (from requests->d2l) (2021.10.8)\n",
      "Collecting idna<4,>=2.5\n",
      "  Downloading idna-3.3-py3-none-any.whl (61 kB)\n",
      "Installing collected packages: pyrsistent, attrs, pyparsing, jsonschema, webencodings, pycparser, packaging, nbformat, MarkupSafe, testpath, pywinpty, pandocfilters, nbclient, mistune, jupyterlab-pygments, jinja2, defusedxml, cffi, bleach, terminado, Send2Trash, prometheus-client, nbconvert, argon2-cffi, notebook, widgetsnbextension, qtpy, jupyterlab-widgets, urllib3, qtconsole, pytz, kiwisolver, jupyter-console, ipywidgets, idna, cycler, charset-normalizer, requests, pandas, matplotlib, jupyter, d2l\n",
      "Successfully installed MarkupSafe-2.0.1 Send2Trash-1.8.0 argon2-cffi-21.1.0 attrs-21.2.0 bleach-4.1.0 cffi-1.15.0 charset-normalizer-2.0.7 cycler-0.11.0 d2l-0.17.0 defusedxml-0.7.1 idna-3.3 ipywidgets-7.6.5 jinja2-3.0.2 jsonschema-4.2.1 jupyter-1.0.0 jupyter-console-6.4.0 jupyterlab-pygments-0.1.2 jupyterlab-widgets-1.0.2 kiwisolver-1.3.2 matplotlib-3.4.3 mistune-0.8.4 nbclient-0.5.4 nbconvert-6.2.0 nbformat-5.1.3 notebook-6.4.5 packaging-21.2 pandas-1.3.4 pandocfilters-1.5.0 prometheus-client-0.12.0 pycparser-2.21 pyparsing-2.4.7 pyrsistent-0.18.0 pytz-2021.3 pywinpty-1.1.5 qtconsole-5.1.1 qtpy-1.11.2 requests-2.26.0 terminado-0.12.1 testpath-0.5.0 urllib3-1.26.7 webencodings-0.5.1 widgetsnbextension-3.5.2\n"
     ]
    }
   ],
   "source": [
    "!pip install -U d2l"
   ]
  },
  {
   "cell_type": "code",
   "execution_count": 3,
   "id": "1ec65525",
   "metadata": {},
   "outputs": [],
   "source": [
    "from d2l import torch as d2l"
   ]
  },
  {
   "cell_type": "code",
   "execution_count": 4,
   "id": "e6c24d10",
   "metadata": {},
   "outputs": [],
   "source": [
    "def corr2d(X,K):\n",
    "    h,w = K.shape\n",
    "    Y = torch.zeros((X.shape[0] - h + 1,X.shape[1] - w +1))\n",
    "    for i in range(Y.shape[0]):\n",
    "        for j in range(Y.shape[1]):\n",
    "            Y[i,j] = (X[i:i + h,j:j + w]* K).sum()\n",
    "    return Y"
   ]
  },
  {
   "cell_type": "code",
   "execution_count": 5,
   "id": "adb06f6a",
   "metadata": {},
   "outputs": [
    {
     "data": {
      "text/plain": [
       "tensor([[19., 25.],\n",
       "        [37., 43.]])"
      ]
     },
     "execution_count": 5,
     "metadata": {},
     "output_type": "execute_result"
    }
   ],
   "source": [
    "X = torch.tensor([[0.0,1.0,2.0],[3.0,4.0,5.0],[6.0,7.0,8.0]])\n",
    "K = torch.tensor([[0.0,1.0],[2.0,3.0]])\n",
    "corr2d(X,K)"
   ]
  },
  {
   "cell_type": "code",
   "execution_count": 6,
   "id": "5600ac9d",
   "metadata": {},
   "outputs": [],
   "source": [
    "#实现二维卷积层\n",
    "class Conv2D(nn.Module):\n",
    "    def __init__(self,kernel_size):\n",
    "        super().__init__()\n",
    "        self.weight = nn.Parameter(torch.rand(kernel_size))\n",
    "        self.bias = nn.Parameter(torch.zeros(1))\n",
    "        \n",
    "    def forward(self,x):\n",
    "        return corr2d(x,self.weight)+ self.bias"
   ]
  },
  {
   "cell_type": "code",
   "execution_count": 7,
   "id": "1e5f0f25",
   "metadata": {},
   "outputs": [
    {
     "data": {
      "text/plain": [
       "tensor([[1., 1., 0., 0., 0., 0., 1., 1.],\n",
       "        [1., 1., 0., 0., 0., 0., 1., 1.],\n",
       "        [1., 1., 0., 0., 0., 0., 1., 1.],\n",
       "        [1., 1., 0., 0., 0., 0., 1., 1.],\n",
       "        [1., 1., 0., 0., 0., 0., 1., 1.],\n",
       "        [1., 1., 0., 0., 0., 0., 1., 1.]])"
      ]
     },
     "execution_count": 7,
     "metadata": {},
     "output_type": "execute_result"
    }
   ],
   "source": [
    "X = torch.ones((6,8))\n",
    "X[:,2:6] = 0\n",
    "X"
   ]
  },
  {
   "cell_type": "code",
   "execution_count": 8,
   "id": "d66d02e0",
   "metadata": {},
   "outputs": [],
   "source": [
    "K = torch.tensor([[1.0,-1.0]])"
   ]
  },
  {
   "cell_type": "code",
   "execution_count": 10,
   "id": "bfb573ed",
   "metadata": {},
   "outputs": [
    {
     "data": {
      "text/plain": [
       "tensor([[ 0.,  1.,  0.,  0.,  0., -1.,  0.],\n",
       "        [ 0.,  1.,  0.,  0.,  0., -1.,  0.],\n",
       "        [ 0.,  1.,  0.,  0.,  0., -1.,  0.],\n",
       "        [ 0.,  1.,  0.,  0.,  0., -1.,  0.],\n",
       "        [ 0.,  1.,  0.,  0.,  0., -1.,  0.],\n",
       "        [ 0.,  1.,  0.,  0.,  0., -1.,  0.]])"
      ]
     },
     "execution_count": 10,
     "metadata": {},
     "output_type": "execute_result"
    }
   ],
   "source": [
    "#输出中Y的1代表白色到黑色的边缘，-1代表黑色到白色的边缘\n",
    "Y = corr2d(X,K)\n",
    "Y"
   ]
  },
  {
   "cell_type": "code",
   "execution_count": 11,
   "id": "aba41dd4",
   "metadata": {},
   "outputs": [
    {
     "data": {
      "text/plain": [
       "tensor([[0., 0., 0., 0., 0.],\n",
       "        [0., 0., 0., 0., 0.],\n",
       "        [0., 0., 0., 0., 0.],\n",
       "        [0., 0., 0., 0., 0.],\n",
       "        [0., 0., 0., 0., 0.],\n",
       "        [0., 0., 0., 0., 0.],\n",
       "        [0., 0., 0., 0., 0.],\n",
       "        [0., 0., 0., 0., 0.]])"
      ]
     },
     "execution_count": 11,
     "metadata": {},
     "output_type": "execute_result"
    }
   ],
   "source": [
    "#卷积核K智能检测垂直边缘\n",
    "corr2d(X.t(),K)   #转置"
   ]
  },
  {
   "cell_type": "code",
   "execution_count": 16,
   "id": "3faac4cf",
   "metadata": {},
   "outputs": [
    {
     "name": "stdout",
     "output_type": "stream",
     "text": [
      "batch2,loss2.443\n",
      "batch4,loss0.695\n",
      "batch6,loss0.234\n",
      "batch8,loss0.087\n",
      "batch10,loss0.034\n"
     ]
    }
   ],
   "source": [
    "#学习由X生成Y的卷积核\n",
    "conv2d = nn.Conv2d(1,1,kernel_size=(1,2),bias=False)     #in_channels,out_channels\n",
    "\n",
    "X = X.reshape((1,1,6,8))\n",
    "Y = Y.reshape((1,1,6,7))\n",
    "\n",
    "for i in range(10):\n",
    "    Y_hat = conv2d(X)\n",
    "    l = (Y_hat-Y)**2\n",
    "    conv2d.zero_grad()\n",
    "    l.sum().backward()\n",
    "    conv2d.weight.data[:]-=3e-2*conv2d.weight.grad\n",
    "    if(i+1)%2==0:\n",
    "        print(f'batch{i+1},loss{l.sum():.3f}')"
   ]
  },
  {
   "cell_type": "code",
   "execution_count": 17,
   "id": "9bd5d005",
   "metadata": {},
   "outputs": [
    {
     "data": {
      "text/plain": [
       "tensor([[ 1.0130, -0.9753]])"
      ]
     },
     "execution_count": 17,
     "metadata": {},
     "output_type": "execute_result"
    }
   ],
   "source": [
    "#所学的卷积核的权重张量\n",
    "conv2d.weight.data.reshape((1,2))"
   ]
  },
  {
   "cell_type": "code",
   "execution_count": null,
   "id": "56cd46c7",
   "metadata": {},
   "outputs": [],
   "source": []
  }
 ],
 "metadata": {
  "kernelspec": {
   "display_name": "Python [conda env:torch]",
   "language": "python",
   "name": "torch"
  },
  "language_info": {
   "codemirror_mode": {
    "name": "ipython",
    "version": 3
   },
   "file_extension": ".py",
   "mimetype": "text/x-python",
   "name": "python",
   "nbconvert_exporter": "python",
   "pygments_lexer": "ipython3",
   "version": "3.9.7"
  }
 },
 "nbformat": 4,
 "nbformat_minor": 5
}
